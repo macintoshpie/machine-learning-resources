{
 "cells": [
  {
   "cell_type": "code",
   "execution_count": 17,
   "metadata": {
    "collapsed": false
   },
   "outputs": [],
   "source": [
    "import numpy as np\n",
    "import matplotlib.pyplot as plt\n",
    "\n",
    "from ipywidgets import interact, IntSlider\n",
    "\n",
    "%matplotlib inline\n",
    "plt.style.use('ggplot')"
   ]
  },
  {
   "cell_type": "markdown",
   "metadata": {},
   "source": [
    "# Logistic Regression\n",
    "\n",
    "Classification applications:\n",
    "- Email: spam/not spam?\n",
    "- Tumor: malignant/benign?\n",
    "\n",
    "Binary classification:\n",
    "$y\\in \\{0,1\\}$  \n",
    "0: Negative class  \n",
    "1: positive class\n",
    "\n",
    "What we want: $0 \\leq h_\\theta \\leq 1$  \n",
    "Remember that the linear hypothesis is $h_\\theta(x)= \\theta^T x$. But that does not satisfy the inequality above. To do so, we apply another function, $g(z)$, where $g(z)=\\frac{1}{1+e^{-z}}$\n",
    "\n",
    "$\\color{blue}{h_\\theta(x)= g(\\theta^T x) = \\frac{1}{1+e^{-\\theta^Tx}}}$\n",
    "\n",
    "\n",
    "$g(z)$ is called the sigmoid, or logistic function and looks like the graph below"
   ]
  },
  {
   "cell_type": "code",
   "execution_count": 22,
   "metadata": {
    "collapsed": false
   },
   "outputs": [
    {
     "data": {
      "text/plain": [
       "<matplotlib.text.Text at 0x11524e198>"
      ]
     },
     "execution_count": 22,
     "metadata": {},
     "output_type": "execute_result"
    },
    {
     "data": {
      "image/png": "[encoded data removed]",
      "text/plain": [
       "<matplotlib.figure.Figure at 0x11524ca20>"
      ]
     },
     "metadata": {},
     "output_type": "display_data"
    }
   ],
   "source": [
    "def mySigmoid(x):\n",
    "    return 1/(1+np.exp(-x))\n",
    "sigx = np.arange(-10,10)\n",
    "sigy = np.apply_along_axis(mySigmoid, 0, sigx)\n",
    "plt.plot(sigx, sigy)\n",
    "plt.ylabel('g(z)')\n",
    "plt.xlabel('z')"
   ]
  },
  {
   "cell_type": "markdown",
   "metadata": {},
   "source": [
    "So how do you interpret the output of the hypothesis?  \n",
    "$h_\\theta(x) = $ the estimated probability that y = 1 on input x\n",
    "\n",
    "This can also be understood as:  \n",
    "$h_\\theta(x) = P(y=1 | x; \\theta)$  \n",
    "(probability that y=1, given x, parameterized by $\\theta$)\n",
    "\n",
    "To assign a class to the output, we could...  \n",
    "predict y=1 when $h_\\theta(x) \\geq 0.5$ (which is when $g(z) \\geq 0.5$, when $z \\geq 0$)  \n",
    "predict y=0 when $h_\\theta(x) < 0.5$ (which is when $g(z) < 0.5$, when $z < 0$)  \n",
    "\n",
    "In other words, since $h_\\theta(x) = g(\\theta^Tx)$, $z = \\theta^Tx$. This means...\n",
    "<font color=blue>\n",
    "predict y=1 when $\\theta^Tx \\geq 0$  \n",
    "predict y=0 when $\\theta^Tx < 0$  \n",
    "</font>"
   ]
  },
  {
   "cell_type": "markdown",
   "metadata": {},
   "source": [
    "- create interactive sigmoid showing relationship between h(x), theta, and the prediction\n",
    "- notes on decision boundary?"
   ]
  },
  {
   "cell_type": "code",
   "execution_count": 23,
   "metadata": {
    "collapsed": false
   },
   "outputs": [
    {
     "data": {
      "image/png": "[encoded data removed]",
      "text/plain": [
       "<matplotlib.figure.Figure at 0x114d9c828>"
      ]
     },
     "metadata": {},
     "output_type": "display_data"
    }
   ],
   "source": [
    "\n",
    "def updateEx1(x):\n",
    "    plt.figure(0)\n",
    "    plt.plot(sigx, sigy)\n",
    "    plt.plot([-10, 10], [.5, .5])\n",
    "    plt.plot(x, mySigmoid(x), 'ro')\n",
    "    plt.ylabel('g(z)')\n",
    "    plt.xlabel('z')\n",
    "    \n",
    "    plt.figure(1)\n",
    "    \n",
    "    # print something about class\n",
    "interact(updateEx1, x=IntSlider(min=-10,max=10,step=1,value=0))"
   ]
  },
  {
   "cell_type": "code",
   "execution_count": null,
   "metadata": {
    "collapsed": true
   },
   "outputs": [],
   "source": []
  }
 ],
 "metadata": {
  "kernelspec": {
   "display_name": "Python [py35]",
   "language": "python",
   "name": "Python [py35]"
  },
  "language_info": {
   "codemirror_mode": {
    "name": "ipython",
    "version": 3
   },
   "file_extension": ".py",
   "mimetype": "text/x-python",
   "name": "python",
   "nbconvert_exporter": "python",
   "pygments_lexer": "ipython3",
   "version": "3.5.4"
  }
 },
 "nbformat": 4,
 "nbformat_minor": 0
}
